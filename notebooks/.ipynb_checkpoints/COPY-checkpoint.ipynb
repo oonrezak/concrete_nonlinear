{
 "cells": [
  {
   "cell_type": "code",
   "execution_count": 2,
   "metadata": {
    "ExecuteTime": {
     "end_time": "2021-11-03T04:16:07.801443Z",
     "start_time": "2021-11-03T04:16:07.793030Z"
    }
   },
   "outputs": [],
   "source": [
    "import pandas as pd\n",
    "import numpy as np\n",
    "import matplotlib.pyplot as plt\n",
    "import seaborn as sns\n",
    "\n",
    "from collections import Counter\n",
    "import itertools\n",
    "\n",
    "from IPython.display import clear_output\n",
    "from IPython.display import HTML\n",
    "\n",
    "from sklearn.model_selection import train_test_split\n",
    "from sklearn.neighbors import KNeighborsRegressor\n",
    "from sklearn.linear_model import LinearRegression\n",
    "from sklearn.linear_model import Lasso\n",
    "from sklearn.linear_model import Ridge\n",
    "from sklearn.preprocessing import MinMaxScaler\n",
    "from sklearn.preprocessing import StandardScaler\n",
    "from sklearn.model_selection import GridSearchCV\n",
    "\n",
    "import xgboost\n",
    "from xgboost import XGBRegressor"
   ]
  },
  {
   "cell_type": "code",
   "execution_count": 3,
   "metadata": {
    "ExecuteTime": {
     "end_time": "2021-11-03T04:16:10.067065Z",
     "start_time": "2021-11-03T04:16:09.967330Z"
    }
   },
   "outputs": [
    {
     "name": "stderr",
     "output_type": "stream",
     "text": [
      "c:\\users\\oonre advincula-go\\onedrive - asian institute of management\\portfolio projects directory\\concrete_nonlinear\\judeml\\judeml\\regression\\knn.py:5: TqdmExperimentalWarning: Using `tqdm.autonotebook.tqdm` in notebook mode. Use `tqdm.tqdm` instead to force console mode (e.g. in jupyter console)\n",
      "  from tqdm.autonotebook import tqdm\n"
     ]
    }
   ],
   "source": [
    "import sys\n",
    "sys.path.append('../judeml')\n",
    "\n",
    "from judeml.regression.automate import judeml_execute as regressor"
   ]
  },
  {
   "cell_type": "markdown",
   "metadata": {},
   "source": [
    "# Formulating the Optimum Concrete Mix Using Machine Learning\n",
    "By **Oonre Advincula-Go**"
   ]
  },
  {
   "cell_type": "markdown",
   "metadata": {},
   "source": [
    "## Executive Summary"
   ]
  },
  {
   "cell_type": "markdown",
   "metadata": {},
   "source": [
    "Concrete is all around us and is an integral part of our world. \n",
    "\n",
    "Using data from the UCI ML Repository that contains information on the ingredients in concrete mixes as well as their tested compressive strengths, we want to predict the compressive strength of a new concrete mix based only from its ingredients.\n",
    "\n",
    "Exploratory data analysis was done - pair plots were made and it was determined that among the ingredients of a concrete mix, cement has the greatest effect on concrete compressive strength. Different regression algorithms were benchmarked using Jude's Automated System and the best algorithm was determine to be Gradient Boosting. Since GBM was already determined to provide the best accuracy, XGBoost was used and provided even better results than GBM. The highest accuracy obtained using XGBoost was 93.66% (averaged over 10 trials with different train-test splits). \n",
    "\n",
    "In order to formulate the optimum concrete mix, the prices for each ingredient were be canvassed, and a brute-force iteration method was tried, where all possible concrete mixes were to be entered into the model, and the predicted strength of each taken. The optimum concrete mix is the formulation that yields a desired strength for a minimum price. However, this method failed due to the sheer number of possible permutations - iterating through them all would take several lifetimes. Thus, the data was revisited and the optimum concrete mix was taken from the samples.\n",
    "\n",
    "To obtain a compressive strength of 40 MPa (this is the threshold of high-strength concrete), the optimum concrete mix was found to be:\n",
    "\n",
    "* cement: 139.6kg\n",
    "* slag: 209.4kg\n",
    "* flyash: 0.0kg\n",
    "* water: 192.0kg\n",
    "* superplasticizer: 0.0kg\n",
    "* coarseaggregate: 1047.0kg\n",
    "* fineaggregate: 806.9kg\n",
    "\n",
    "which obtained a strength of 44.7 MPa, for a price of P2304.50 per cubic meter (yields 19.40 KPa per peso)."
   ]
  },
  {
   "cell_type": "markdown",
   "metadata": {},
   "source": [
    "## 1. Introduction"
   ]
  },
  {
   "cell_type": "markdown",
   "metadata": {},
   "source": [
    "Take a look outside. Do you see buildings all around you? If you are reading this, you are likely in Makati City, so chances are, you do. Whether short, or tall, chances are a vast majority of these structures are built chiefly from concrete. The very floor you step on, though it may be laid with tiles or some other material, is underlain by concrete. The walls that surround you, the columns that hold them up, even the driveways and roads outside are all made of concrete. Needless to say, concrete is integral to human life."
   ]
  },
  {
   "cell_type": "markdown",
   "metadata": {},
   "source": [
    "Concrete is a mixture of sand, gravel, crushed rock, or other aggregates held together in a\n",
    "rocklike mass with a paste of cement and water. Sometimes one or more admixtures are added\n",
    "to change certain characteristics of the concrete such as its workability, durability, and time of\n",
    "hardening. Concrete has a high compressive strength and a very\n",
    "low tensile strength. (McCormac & Brown, 2014)"
   ]
  },
  {
   "cell_type": "markdown",
   "metadata": {},
   "source": [
    "### 1.1 Components of a Concrete Mixture"
   ]
  },
  {
   "cell_type": "markdown",
   "metadata": {},
   "source": [
    "<img src='concrete_mix.jpg' width='500px'>"
   ]
  },
  {
   "cell_type": "markdown",
   "metadata": {},
   "source": [
    "Since we now know that concrete is composed of a variety of materials, which altogether make up the concrete mix. Among these ingredients, only cement, water, and aggregates are essential, but proportioning these ingredients differently can yield a wide range of results. Concrete takes about 28 days of hardening to achieve most of its full strength. Though it still continues to harden after that, strength gained after 28 days is negligible and marginal.\n",
    "\n",
    "#### Ingredients\n",
    "* Cement - usually *Portland cement*, a limestone-based powder that serves as a binder. As a trivia, Portland cement is not named for the city of Portland, Oregon in the United States, but for a kind of quarry stone known as *Portland stone* from the Isle of Portland, Dorset, UK. Portland cement is thought to resemble this stone.\n",
    "* Water - when mixed with Portland cement, the two undergo a chemical reaction known as *hydration*, in which the major compounds in cement form chemical bonds with water molecules.\n",
    "* Aggregates - particulate material that provide the strength and hardness to the concrete.\n",
    "    * Coarse Aggregate - gravel\n",
    "    * Fine Aggregate - sand\n",
    "* Admixtures - chemicals that are added to the concrete mix to impart some desired properties or modifications. Some admixtures are used to speed up concrete curing or hardening, some are used to slow down the same process, others are used to reduce the required amount of water for the mix, and yet others are used to make the concrete mix highly fluid and easily workable (easy to mix). This last type of admixture I have mentioned is known as a *superplasticizer*. Admixtures are optional."
   ]
  },
  {
   "cell_type": "markdown",
   "metadata": {},
   "source": [
    "### 1.2 Compressive Strength"
   ]
  },
  {
   "cell_type": "markdown",
   "metadata": {},
   "source": [
    "Concrete is used because of its high *compressive strength* - the ability to bear crushing load without giving way. For concrete, compressive strength is usually measured in MegaPascals (MPa), which is weight in Newtons that concrete can bear per square millimeter of its area.\n",
    "\n",
    "To measure the strength of a concrete mix, some amount of the freshly poured concrete is placed in a cylindrical mold, which is then hardened, typically for 28 days. The concrete cylinder is then taken out of its mold and crushed. The pressure required to crush the cylinder is logged as the concrete's compressive strength. One can immediately see the disadvantage in measuring concrete strength by this method - it will take 28 days to know the strength of the concrete, by which time it will be too late to easily rectify any mistakes if the concrete is found to be substandard."
   ]
  },
  {
   "cell_type": "markdown",
   "metadata": {},
   "source": [
    "### 1.3 Objectives of the Study"
   ]
  },
  {
   "cell_type": "markdown",
   "metadata": {},
   "source": [
    "As stated above, the current method of measuring concrete strength is disadvantageous mainly because of the 28-day delay. As an example, I want to pour concrete for the 12th floor of my building. I do so, and also take some of the mix and mold it into cylinders. 28 days later, I find out that the concrete crushed at 30 MPa, when the design called for 40 MPa. I have several courses of action at this point, none of which are easy to implement. These choices include retrofitting at best, and in a worst-case scenario, demolishing the newly-built level and redoing the work.\n",
    "\n",
    "1. Using data on the ingredients of a concrete mix, we want to be able to reliably predict the compressive strength of a concrete mix, without waiting 28 days just to crush it.\n",
    "2. By creating an accurate regression model, we want to optimize the cheapest possible concrete mix that can achieve a desired compressive strength (an example is 40 MPa, which is the minimum for high-strength concrete)."
   ]
  },
  {
   "cell_type": "markdown",
   "metadata": {},
   "source": [
    "### 1.4 Limitation of the Study"
   ]
  },
  {
   "cell_type": "markdown",
   "metadata": {},
   "source": [
    "Concrete strength is not solely dependent on its ingredients - there are multiple factors and externalities that can affect the final strength, such as poor mixing practices and the ambient temperature, among others. There will always be error unexplainable by the data."
   ]
  },
  {
   "cell_type": "markdown",
   "metadata": {},
   "source": [
    "### 1.5 Summary of the Methodology"
   ]
  },
  {
   "cell_type": "markdown",
   "metadata": {},
   "source": [
    "1. Data Reading and Preprocessing\n",
    "    * The data will be opened and checked for completeness, if it will need cleaning and preprocessing.\n",
    "    * The features will be analyzed and discussed.\n",
    "2. Exploratory Data Analysis\n",
    "    * Pair plots will be done to determine relationships between variables, or between variables and the target.\n",
    "    * Correlations to determine if features are independent and whether some of them may be dropped.\n",
    "3. Machine Learning\n",
    "    * Different regression algorithms will be benchmarked using Jude's Automated System to determine the best algorithm to use.\n",
    "    * The hyperparameters of the best algorithm will be tuned using GridSearchCV.\n",
    "    * The objective of this section is to predict the compressive strength of a concrete mix to as high an accuracy as possible.\n",
    "4. Formulating the Optimum Concrete Mix\n",
    "    * Prices for each ingredient will be canvassed\n",
    "    * A brute-force iteration method will be tried, where all possible concrete mixes will be entered into the model, and the predicted strength of each taken. The optimum concrete mix is the formulation that yields a desired strength for a minimum price. However, this method may fail due to the sheer number of possible permutations.\n",
    "    "
   ]
  },
  {
   "cell_type": "markdown",
   "metadata": {},
   "source": [
    "## 2. Data"
   ]
  },
  {
   "cell_type": "markdown",
   "metadata": {},
   "source": [
    "### 2.1 Reading the Data"
   ]
  },
  {
   "cell_type": "code",
   "execution_count": null,
   "metadata": {},
   "outputs": [],
   "source": [
    "path = 'concrete_data.csv'"
   ]
  },
  {
   "cell_type": "code",
   "execution_count": null,
   "metadata": {},
   "outputs": [],
   "source": [
    "df_concrete = pd.read_csv(path)\n",
    "df_concrete.head()"
   ]
  },
  {
   "cell_type": "code",
   "execution_count": null,
   "metadata": {},
   "outputs": [],
   "source": [
    "df = df_concrete.copy()"
   ]
  },
  {
   "cell_type": "code",
   "execution_count": null,
   "metadata": {},
   "outputs": [],
   "source": [
    "df.shape"
   ]
  },
  {
   "cell_type": "markdown",
   "metadata": {},
   "source": [
    "We have a 1030 x 9 DataFrame, with the target column being `csMPa`."
   ]
  },
  {
   "cell_type": "code",
   "execution_count": null,
   "metadata": {},
   "outputs": [],
   "source": [
    "df.isna().sum()"
   ]
  },
  {
   "cell_type": "markdown",
   "metadata": {},
   "source": [
    "Fortunately for us, the data is already clean, and there are no null values or placeholders. Thus, the data can be used directly (no need for preprocessing)."
   ]
  },
  {
   "cell_type": "markdown",
   "metadata": {},
   "source": [
    "### 2.2 Data Features"
   ]
  },
  {
   "cell_type": "markdown",
   "metadata": {},
   "source": [
    "Data was taken from Kaggle but is originally from the UCI Machine Learning Repository."
   ]
  },
  {
   "cell_type": "markdown",
   "metadata": {},
   "source": [
    "#### Features"
   ]
  },
  {
   "cell_type": "markdown",
   "metadata": {},
   "source": [
    "The features of the data describe the number of kilograms of each ingredient per cubic meter of a concrete mixture."
   ]
  },
  {
   "cell_type": "markdown",
   "metadata": {},
   "source": [
    "\n",
    "| Name | Data Type | Measurement | Description |\n",
    "| ------------- | ------------- | ----- | ----- |\n",
    "| Cement (component 1) | quantitative | kg in a m3 mixture | Input Variable |\n",
    "| Blast Furnace Slag (component 2) | quantitative | kg in a m3 mixture | Input Variable |\n",
    "| Fly Ash (component 3) | quantitative | kg in a m3 mixture | Input Variable |\n",
    "| Water (component 4) | quantitative | kg in a m3 mixture | Input Variable |\n",
    "| Superplasticizer (component 5) | quantitative | kg in a m3 mixture | Input Variable |\n",
    "| Coarse Aggregate (component 6) | quantitative | kg in a m3 mixture | Input Variable |\n",
    "| Fine Aggregate (component 7) | quantitative | kg in a m3 mixture | Input Variable |\n",
    "| Age | quantitative | Day (1~365) | Input Variable |\n",
    "| Concrete compressive strength | quantitative | MPa | Output Variable |\n"
   ]
  },
  {
   "cell_type": "markdown",
   "metadata": {},
   "source": [
    "Note that we now have two additional components not discussed earlier: Blast Furnace Slag and Fly Ash. Blast Furnace Slag is a by-product of iron/steel smelting, and, being cementitious, is thought to increase the strength of concrete if added.\n",
    "\n",
    "Fly Ash is a particulate by-product of coal combustion. It is thought to have pozzolanic (cementitious) properties as well, adding to the strength of concrete. However, some dismiss fly ash as a filler or extender."
   ]
  },
  {
   "cell_type": "code",
   "execution_count": null,
   "metadata": {},
   "outputs": [],
   "source": [
    "df_concrete.describe()"
   ]
  },
  {
   "cell_type": "markdown",
   "metadata": {},
   "source": [
    "We see that the data distributions vary per column - some ingredients are added liberally to mixes such as coarse aggregate, and some are present in minimal amounts such as the superplasticizer. This is expected, since aggregate (sand and gravel) should make up the bulk of the concrete because it provides the concrete's bulk and hardness."
   ]
  },
  {
   "cell_type": "markdown",
   "metadata": {},
   "source": [
    "## 3. EDA"
   ]
  },
  {
   "cell_type": "markdown",
   "metadata": {},
   "source": [
    "As with most analytics projects, an exploratory data analysis or EDA will be performed. EDA is very important to any data project as it allows a preliminary look not just into the data structure, but also into the data itself. We might learn about the distribution of each variable, or relationships between variables. These sometimes give us insights that can be helpful when performing Machine Learning."
   ]
  },
  {
   "cell_type": "markdown",
   "metadata": {},
   "source": [
    "### 3.1 The Target"
   ]
  },
  {
   "cell_type": "markdown",
   "metadata": {},
   "source": [
    "The variable of interest in this dataset is the compressive strength - column `csMPa` in the DataFrame."
   ]
  },
  {
   "cell_type": "code",
   "execution_count": null,
   "metadata": {},
   "outputs": [],
   "source": [
    "plt.figure(dpi=120)\n",
    "df['csMPa'].plot.hist(bins=15, color='green')\n",
    "plt.ylabel('Distribution of Compressive Strength')\n",
    "plt.title('Strength in MPa')"
   ]
  },
  {
   "cell_type": "markdown",
   "metadata": {},
   "source": [
    "The spread is quite significant - we have some weak concrete at as low as 10 MPa or less, and some very high strength mixes at more than 80 MPa,  which is the very upper limit of obtainable strength with concrete."
   ]
  },
  {
   "cell_type": "markdown",
   "metadata": {},
   "source": [
    "### 3.2 Pair Plots"
   ]
  },
  {
   "cell_type": "markdown",
   "metadata": {},
   "source": [
    "In order to obtain a visualization of the relationships between variables as well as the distributions, it is appropriate to construct pair-wise plots, or \"pair plots\"."
   ]
  },
  {
   "cell_type": "code",
   "execution_count": null,
   "metadata": {},
   "outputs": [],
   "source": [
    "prp = sns.pairplot(df)"
   ]
  },
  {
   "cell_type": "markdown",
   "metadata": {},
   "source": [
    "Just by looking at the pair plots, it is difficult to spot relationships, as most of the features seem to be uncorrelated. However, we do see a weak positive trend between `cement` and `csMPa`."
   ]
  },
  {
   "cell_type": "code",
   "execution_count": null,
   "metadata": {},
   "outputs": [],
   "source": [
    "plt.figure(figsize=(10, 9))\n",
    "sns.heatmap((df.corr()), annot=True, annot_kws={\"size\": 16}, center=0, square=True, fmt='.2f', cmap='RdGy_r')\n",
    "plt.show()"
   ]
  },
  {
   "cell_type": "markdown",
   "metadata": {},
   "source": [
    "Strong relationships:\n",
    "* `water` and `superplasticizer` - superplasticizer makes concrete more fluid and reduces the required water content. Thus, this is expected.\n",
    "* `csMPa` and `cement` - moderately strong positive correlation. More cement means stronger concrete. This is also expected."
   ]
  },
  {
   "cell_type": "markdown",
   "metadata": {},
   "source": [
    "### 3.3 EDA Conclusion"
   ]
  },
  {
   "cell_type": "markdown",
   "metadata": {},
   "source": [
    "Features need not be dropped since they are not too highly correlated so as to justify manual feature reduction."
   ]
  },
  {
   "cell_type": "markdown",
   "metadata": {},
   "source": [
    "## 4. Preparation of Data for Machine Learning"
   ]
  },
  {
   "cell_type": "markdown",
   "metadata": {},
   "source": [
    "### 4.1 Feature Engineering"
   ]
  },
  {
   "cell_type": "code",
   "execution_count": null,
   "metadata": {},
   "outputs": [],
   "source": [
    "df.head()"
   ]
  },
  {
   "cell_type": "markdown",
   "metadata": {},
   "source": [
    "The data is already clean, so we can proceed directly to feature engineering. As stated earlier, since Franco has already done the water/cement ratio, we will perform some other feature engineering in the interest of originality.\n",
    "\n",
    "As stated in the introduction, aging cement beyond 28 days has a negligible effect on its strength. Thus, to reduce noise, we will replace the age of all samples above 28 days with 28."
   ]
  },
  {
   "cell_type": "code",
   "execution_count": null,
   "metadata": {},
   "outputs": [],
   "source": [
    "df_28 = df.copy()\n",
    "df_28['age'] = df_28['age'].apply(lambda x: 28 if x > 28 else x)"
   ]
  },
  {
   "cell_type": "markdown",
   "metadata": {},
   "source": [
    "### 4.2 Preparation of the Target Column and the Feature DataFrame"
   ]
  },
  {
   "cell_type": "code",
   "execution_count": null,
   "metadata": {},
   "outputs": [],
   "source": [
    "target = df['csMPa']\n",
    "df_features = df.drop(columns='csMPa')"
   ]
  },
  {
   "cell_type": "code",
   "execution_count": null,
   "metadata": {},
   "outputs": [],
   "source": [
    "target_28 = df_28['csMPa']\n",
    "df_features_28 = df_28.drop(columns='csMPa')"
   ]
  },
  {
   "cell_type": "markdown",
   "metadata": {},
   "source": [
    "## 5. Machine Learning Using JUDAS"
   ]
  },
  {
   "cell_type": "markdown",
   "metadata": {},
   "source": [
    "**JUDAS** is Jude's automated system, created by Jude Teves, an ace student of the MSDS 2019 batch. We credit him for his work and make us of the automated learner in order to ascertain the best model for us to use."
   ]
  },
  {
   "cell_type": "markdown",
   "metadata": {},
   "source": [
    "### 5.1 JUDAS for Original Data"
   ]
  },
  {
   "cell_type": "code",
   "execution_count": null,
   "metadata": {},
   "outputs": [],
   "source": [
    "rgs = JudasRegressor()\n",
    "trials=10\n",
    "\n",
    "params = [\n",
    "    {'model': 'knn', 'trials': trials, 'k': range(1,30), 'scaler': MinMaxScaler()},\n",
    "    {'model': 'linear', 'trials': trials},\n",
    "    {'model': 'lasso', 'trials': trials},\n",
    "    {'model': 'ridge', 'trials': trials},\n",
    "#     {'model': 'svm', 'trials': trials}, # takes too long!!!\n",
    "#     {'model': 'svm-rbf', 'trials': trials}, # low accuracy\n",
    "#     {'model': 'svm-poly', 'trials': trials}, # takes too long!!!\n",
    "    {'model': 'ensemble-decisiontree', 'trials': trials, 'maxdepth': range(1,20)},\n",
    "    {'model': 'ensemble-randomforest', 'trials': trials, 'n_est': range(1,20)},\n",
    "    {'model': 'ensemble-gbm', 'trials': trials, 'maxdepth': range(1,10)},\n",
    "]\n",
    "rgs.automate(df_features, target, params)\n",
    "rgs.score()"
   ]
  },
  {
   "cell_type": "code",
   "execution_count": null,
   "metadata": {},
   "outputs": [],
   "source": [
    "rgs.plot_accuracy()"
   ]
  },
  {
   "cell_type": "markdown",
   "metadata": {},
   "source": [
    "### 5.2 JUDAS for 28-day Limited Concrete"
   ]
  },
  {
   "cell_type": "markdown",
   "metadata": {},
   "source": [
    "We now use JUDAS on the concrete who age had been limited to 28 days."
   ]
  },
  {
   "cell_type": "code",
   "execution_count": null,
   "metadata": {},
   "outputs": [],
   "source": [
    "rgs = JudasRegressor()\n",
    "trials=10\n",
    "\n",
    "params = [\n",
    "    {'model': 'knn', 'trials': trials, 'k': range(1,30), 'scaler': MinMaxScaler()},\n",
    "    {'model': 'linear', 'trials': trials},\n",
    "    {'model': 'lasso', 'trials': trials},\n",
    "    {'model': 'ridge', 'trials': trials},\n",
    "#     {'model': 'svm', 'trials': trials}, # takes too long!!!\n",
    "#     {'model': 'svm-rbf', 'trials': trials}, # low accuracy\n",
    "#     {'model': 'svm-poly', 'trials': trials}, # takes too long!!!\n",
    "    {'model': 'ensemble-decisiontree', 'trials': trials, 'maxdepth': range(1,20)},\n",
    "    {'model': 'ensemble-randomforest', 'trials': trials, 'n_est': range(1,20)},\n",
    "    {'model': 'ensemble-gbm', 'trials': trials, 'maxdepth': range(1,10)},\n",
    "]\n",
    "rgs.automate(df_features_28, target_28, params)\n",
    "rgs.score()"
   ]
  },
  {
   "cell_type": "markdown",
   "metadata": {
    "ExecuteTime": {
     "end_time": "2019-08-19T14:31:38.726860Z",
     "start_time": "2019-08-19T14:31:36.122729Z"
    }
   },
   "source": [
    "Consistent with our expectations we got dramatically improved results for the kNN and Linear Models, but contrary to our expectations, worse results for the ensemble models. This is a testament to the power of ensemble models, as they were able to capture the marginal effect of concrete hardening after 28 days.\n",
    "\n",
    "Moving forward, we will use the original, unmodified data."
   ]
  },
  {
   "cell_type": "markdown",
   "metadata": {},
   "source": [
    "## 6. Machine Learning Using XGBoost"
   ]
  },
  {
   "cell_type": "markdown",
   "metadata": {},
   "source": [
    "### 6.1 XGBoost on Original Data"
   ]
  },
  {
   "cell_type": "markdown",
   "metadata": {},
   "source": [
    "We got a high $R^2$ accuracy of 92.52% with the Gradient Boosting Regressor. But can we go higher than that? To attempt to do so, we will make use of XGBoost, an improved implementation of the GBM."
   ]
  },
  {
   "cell_type": "code",
   "execution_count": null,
   "metadata": {
    "scrolled": true
   },
   "outputs": [],
   "source": [
    "param_grid = {\n",
    "    'learning_rate': [0.01, 0.1, 0.15],\n",
    "    'max_depth': [3, 4, 5, 7, 10],\n",
    "    'n_estimators': [100, 250, 500, 750]\n",
    "}\n",
    "\n",
    "estxg = XGBRegressor(random_state=0, silent=True)\n",
    "\n",
    "gs_cv_xg = GridSearchCV(estxg, param_grid, cv=3, verbose=1).fit(df_features, target)\n",
    "print(gs_cv_xg.best_params_)"
   ]
  },
  {
   "cell_type": "code",
   "execution_count": null,
   "metadata": {},
   "outputs": [],
   "source": [
    "n_trials = 10\n",
    "xgb_scores = []\n",
    "for i in range(n_trials):\n",
    "    X_train, X_test, y_train, y_test = train_test_split(df_features, target, test_size=0.25, random_state=i)\n",
    "    xgbr = XGBRegressor(learning_rate=0.15, max_depth=3, n_estimators=750, random_state=0, silent=True)\n",
    "    xgbr.fit(X_train, y_train)\n",
    "    xgb_scores.append(xgbr.score(X_test, y_test))"
   ]
  },
  {
   "cell_type": "code",
   "execution_count": null,
   "metadata": {},
   "outputs": [],
   "source": [
    "mean_xgb_score = np.mean(xgb_scores)\n",
    "print('Average score of XGBoost over {} trials: {:.2f}%'.format(n_trials, mean_xgb_score*100))"
   ]
  },
  {
   "cell_type": "markdown",
   "metadata": {},
   "source": [
    "Averaged over 10 trials, we were able to obtain an accuracy of **93.66%**, better than with GBM."
   ]
  },
  {
   "cell_type": "markdown",
   "metadata": {},
   "source": [
    "### 6.2 Applying Learnings: Testing the Water/Cement Ratio"
   ]
  },
  {
   "cell_type": "markdown",
   "metadata": {},
   "source": [
    "At this point, I will compute the water-cement ratio in order to obtain a higher accuracy. However, I will cap my best accuracy at 93.66% to avoid grabbing credits. Acknowledgments to Ray Franco Rivera for the idea."
   ]
  },
  {
   "cell_type": "code",
   "execution_count": null,
   "metadata": {},
   "outputs": [],
   "source": [
    "df_features_eng = df_features.copy()\n",
    "df_features_eng['wc_ratio'] = df_features_eng['water'] / df_features_eng['cement']\n",
    "df_features_eng = df_features_eng.drop(columns=['water', 'cement'])"
   ]
  },
  {
   "cell_type": "code",
   "execution_count": null,
   "metadata": {},
   "outputs": [],
   "source": [
    "n_trials = 10\n",
    "xgb_scores = []\n",
    "for i in range(n_trials):\n",
    "    X_train, X_test, y_train, y_test = train_test_split(df_features_eng, target, test_size=0.25, random_state=i)\n",
    "    xgbr_e = XGBRegressor(learning_rate=0.15, max_depth=3, n_estimators=750, random_state=0, silent=True)\n",
    "    xgbr_e.fit(X_train, y_train)\n",
    "    xgb_scores.append(xgbr_e.score(X_test, y_test))\n",
    "mean_xgb_score = np.mean(xgb_scores)\n",
    "print('Average score of XGBoost over {} trials: {:.2f}%'.format(n_trials, mean_xgb_score*100))"
   ]
  },
  {
   "cell_type": "markdown",
   "metadata": {},
   "source": [
    "Indeed, doing this feature engineering slightly improves the accuracy. This is because simply adding more cement to the mix will not necessarily increase the strength, since every mass of concrete added needs to have a corresponding water mass added as well to hydrate it."
   ]
  },
  {
   "cell_type": "markdown",
   "metadata": {},
   "source": [
    "### 6.3 Final Results of the Machine Learning"
   ]
  },
  {
   "cell_type": "markdown",
   "metadata": {},
   "source": [
    "From our Machine Learning runs with JUDAS and XGBoost, we were able to predict the strength of a concrete mix to an $R^2$ accuracy of **93.66%**.\n",
    "\n",
    "The following model was used:\n",
    "* XGBoosting Regressor (average over 10 trials) with the following hyperparameters:\n",
    "    * `learning_rate` = 0.15\n",
    "    * `max_depth` = 3\n",
    "    * `n_estimators` = 750\n",
    "    \n",
    "When following in Franco's lead and performing feature engineering (obtaining the water/cement ratio), we were able to bump the accuracy up slightly to **94.20%**."
   ]
  },
  {
   "cell_type": "markdown",
   "metadata": {},
   "source": [
    "#### Feature Importances (Original Data)"
   ]
  },
  {
   "cell_type": "code",
   "execution_count": null,
   "metadata": {},
   "outputs": [],
   "source": [
    "fig, ax = plt.subplots(1, 1, dpi=125)\n",
    "xgboost.plot_importance(xgbr, ax=ax)\n",
    "plt.show()"
   ]
  },
  {
   "cell_type": "markdown",
   "metadata": {},
   "source": [
    "#### Feature Importances (With Water-Cement Ratio)"
   ]
  },
  {
   "cell_type": "code",
   "execution_count": null,
   "metadata": {},
   "outputs": [],
   "source": [
    "fig, ax = plt.subplots(1, 1, dpi=125)\n",
    "xgboost.plot_importance(xgbr_e, ax=ax)\n",
    "plt.show()"
   ]
  },
  {
   "cell_type": "markdown",
   "metadata": {},
   "source": [
    "Age is the most important feature, since concrete hardens over time. The water-concrete ratio is also important, as water and concrete collectively serve as the binder for the concrete, keeping it together. Notably, fly ash is the least important feature. This is a significant finding, as some cements market themselves as containing fly ash. Since fly ash contributes little to the compressive strength of cement, it might be functioning as a filler or extender for concrete. Thus, people should be prudent when purchasing cement that is advertised to have fly ash content."
   ]
  },
  {
   "cell_type": "markdown",
   "metadata": {},
   "source": [
    "## 7. Formulating the Optimum Concrete Mix"
   ]
  },
  {
   "cell_type": "markdown",
   "metadata": {},
   "source": [
    "In section 6, we were able to create a highly accurate model that can predict the strength of a concrete mix with an accuracy of 94.20%.\n",
    "\n",
    "For this section, our objective is to use the model that we have created to formulate the most economical concrete mix that can still achieve a certain compressive strength. By doing so, we can be able to help construction companies save on concrete costs and build more efficiently."
   ]
  },
  {
   "cell_type": "markdown",
   "metadata": {},
   "source": [
    "### 7.1 Ingredient Prices"
   ]
  },
  {
   "cell_type": "markdown",
   "metadata": {},
   "source": [
    "Prices were canvassed to the best of the author's ability on August 2019."
   ]
  },
  {
   "cell_type": "markdown",
   "metadata": {},
   "source": [
    "\n",
    "| Name | Estimated Price per kg PHP |\n",
    "| ------------- | ------------- |\n",
    "| Cement (component 1) | 5.50 |\n",
    "| Blast Furnace Slag (component 2) | 0.80 |\n",
    "| Fly Ash (component 3) | 1.80 |\n",
    "| Water (component 4) | 0.00 |\n",
    "| Superplasticizer (component 5) | 150.00 |\n",
    "| Coarse Aggregate (component 6) | 0.73 |\n",
    "| Fine Aggregate (component 7) | 0.76 |\n"
   ]
  },
  {
   "cell_type": "markdown",
   "metadata": {},
   "source": [
    "### 7.2 Mixing Round 1: Brute Force"
   ]
  },
  {
   "cell_type": "markdown",
   "metadata": {},
   "source": [
    "One option for us to optimize an economical concrete mix is to iterate over the entire range of possible values for each of the ingredients using `itertools`. This is a brute force method; we iterate over all possible concrete mixes and get the price and compressive strength for each. The optimum concrete mix for a strength of, say, 40 MPa, will be the mix with the minimum price that has a strength of at least 40 MPa."
   ]
  },
  {
   "cell_type": "code",
   "execution_count": null,
   "metadata": {},
   "outputs": [],
   "source": [
    "cp = 5.5\n",
    "sp = .8\n",
    "fp = 1.8\n",
    "wp = 0.\n",
    "pp = 150.\n",
    "gp = 0.73\n",
    "sp = 0.76"
   ]
  },
  {
   "cell_type": "code",
   "execution_count": null,
   "metadata": {},
   "outputs": [],
   "source": [
    "cement = np.arange(102, 540+1)\n",
    "slag = np.arange(0, 359+1)\n",
    "flyash = np.arange(0, 200+1)\n",
    "water = np.arange(122, 247+1)\n",
    "superplasticizer = np.arange(0, 32+1)\n",
    "coarseaggregate = np.arange(801, 1145+1)\n",
    "fineaggregate = np.arange(594, 992+1)\n",
    "age = (28,)"
   ]
  },
  {
   "cell_type": "code",
   "execution_count": null,
   "metadata": {},
   "outputs": [],
   "source": [
    "total_iters = len(cement)*len(slag)*len(flyash)*len(water)*len(superplasticizer)*len(coarseaggregate)*len(fineaggregate)*len(age)\n",
    "total_iters"
   ]
  },
  {
   "cell_type": "code",
   "execution_count": null,
   "metadata": {},
   "outputs": [],
   "source": [
    "def price(x):\n",
    "    return x[0]*cp+x[1]*sp+x[2]*fp+x[3]*wp+x[4]*pp+x[5]*gp+x[6]*sp\n",
    "\n",
    "def strength(x):\n",
    "    comp_str = xgbr_e.predict(pd.DataFrame({'slag': [x[1]], \n",
    "                             'flyash': [x[2]], \n",
    "                             'superplasticizer': [x[4]], 'coarseaggregate': [x[5]],\n",
    "                            'fineaggregate': [x[6]], 'age': [28], 'wc_ratio': [x[3]/x[0]]}))[0]\n",
    "    return comp_str"
   ]
  },
  {
   "cell_type": "code",
   "execution_count": null,
   "metadata": {},
   "outputs": [],
   "source": [
    "# i = 1\n",
    "# lowest_price = 50000\n",
    "# for p in itertools.product(cement, slag, flyash, water, superplasticizer, coarseaggregate, fineaggregate, age):\n",
    "#     x = p\n",
    "#     cstr_ = strength(x)\n",
    "#     price_ = price(x)\n",
    "#     if not i % 1000:\n",
    "#         print('Trial {} of {}'.format(i, total_iters))\n",
    "#         print('--------------')\n",
    "#         print('Progress: {:.2f}%'.format(i/total_iters*100))\n",
    "#         clear_output(wait=True)\n",
    "#     if cstr_ < 40.:\n",
    "#         i += 1\n",
    "#         continue\n",
    "#     else:\n",
    "#         if price_ < lowest_price:\n",
    "#             best_mix = x\n",
    "#             global_price = price_\n",
    "#             global_strength = cstr_\n",
    "#     i += 1\n",
    "    "
   ]
  },
  {
   "cell_type": "markdown",
   "metadata": {
    "ExecuteTime": {
     "end_time": "2019-08-19T15:22:18.249552Z",
     "start_time": "2019-08-19T15:22:18.241572Z"
    }
   },
   "source": [
    "Although the code is ready, we see that there are 18181912114119600 total permutations, and iterating through all of them will take several lifetimes, if not an eternity. Even increasing the step of arange barely helps. Thus, we will not proceed with this analysis."
   ]
  },
  {
   "cell_type": "markdown",
   "metadata": {},
   "source": [
    "### 7.3 Mixing Round 2: Using Available Samples"
   ]
  },
  {
   "cell_type": "markdown",
   "metadata": {},
   "source": [
    "We were unable to produce the optimum concrete mix through brute-force iteration. However, we already have a sample of about 1000 different concrete mixes in our data. Thus, we will get the most optimal among these samples.\n",
    "\n",
    "Defining a function that calculates the price of each concrete mix:"
   ]
  },
  {
   "cell_type": "code",
   "execution_count": null,
   "metadata": {},
   "outputs": [],
   "source": [
    "def get_prices(row):\n",
    "    price = 0\n",
    "    price += row['cement']*cp + row['slag']*sp + row['flyash']*fp\n",
    "    price += row['water']*wp + row['superplasticizer']*pp\n",
    "    price += row['coarseaggregate']*gp + row['fineaggregate']*sp\n",
    "    return price"
   ]
  },
  {
   "cell_type": "code",
   "execution_count": null,
   "metadata": {},
   "outputs": [],
   "source": [
    "prices = df.apply(lambda row: get_prices(row), axis=1)\n",
    "df['price_php'] = prices\n",
    "df.head()"
   ]
  },
  {
   "cell_type": "markdown",
   "metadata": {},
   "source": [
    "Below, we define a function that calculates the economy of a mix i.e. unit compressive strength provided per peso. Since the values will be very small, we will multiply this value by 1000, in effect taking the KiloPascals (KPa) provided per peso."
   ]
  },
  {
   "cell_type": "code",
   "execution_count": null,
   "metadata": {},
   "outputs": [],
   "source": [
    "def get_econ(row):\n",
    "    econ = row['csMPa']*1000 / row['price_php']\n",
    "    return econ\n",
    "econ = df.apply(lambda row: get_econ(row), axis=1)\n",
    "df['csKPa_per_php'] = econ\n",
    "df.head()"
   ]
  },
  {
   "cell_type": "code",
   "execution_count": null,
   "metadata": {},
   "outputs": [],
   "source": [
    "plt.figure(figsize=(8, 5), dpi=115)\n",
    "plt.plot(df['csMPa'], df['csKPa_per_php'], '.')\n",
    "plt.title('Economy of a Concrete Mix (compressive strength provided per PHP) versus Price in PHP', fontsize=12)\n",
    "plt.ylabel('Compressive Strength (KPa) provided per PHP cost')\n",
    "plt.xlabel('Compressive Strength (MPa)')\n",
    "plt.show()"
   ]
  },
  {
   "cell_type": "markdown",
   "metadata": {},
   "source": [
    "We notice two things - as the compressive strength increases, the economy also improves, meaning that higher-strength concrete mixes are cheaper per unit strength provided. However, the data is also heteroskedastic - the spread of the data increases as compressive strength increases. This means that many inefficient mixes exist, and it is our task to identify the most economical mix per strength range."
   ]
  },
  {
   "cell_type": "code",
   "execution_count": null,
   "metadata": {
    "scrolled": false
   },
   "outputs": [],
   "source": [
    "ini_lower_bound = 30\n",
    "ini_upper_bound = 35\n",
    "for i in range(11):\n",
    "    lower_bound = ini_lower_bound + i*5\n",
    "    upper_bound = ini_upper_bound + i*5\n",
    "    opti = df[(df['csMPa'] >= lower_bound) & (df['csMPa'] < upper_bound)].sort_values('csKPa_per_php', ascending=False)\n",
    "    display(HTML('<h4>7.3.{} Optimum Concrete Mix for Strength Range {} to {} MPa'.format(i+1, lower_bound, upper_bound)))\n",
    "    display(opti.head(1))\n",
    "    display(HTML('The ingredients for the optimum concrete Mix in the strength range {} to {} MPa are:'.format(lower_bound, upper_bound)))\n",
    "    column_str = '<ul>'\n",
    "    for col in opti.columns:\n",
    "        if col != 'csMPa' and col != 'price_php' and col != 'csKPa_per_php' and col != 'age':\n",
    "            column_str += '<li><b>{}</b>: {}kg</li>'.format(col, opti[col].iloc[0])\n",
    "    column_str += '</ul>'\n",
    "    display(HTML(column_str))"
   ]
  },
  {
   "cell_type": "markdown",
   "metadata": {},
   "source": [
    "## 8. Conclusion and Recommendation"
   ]
  },
  {
   "cell_type": "markdown",
   "metadata": {},
   "source": [
    "In attempting to predict the strength of a concrete mix solely from its ingredients, we were able to obtain an $R^2$ accuracy of **93.66%**, averaged over 10 trials, using XGBoost. This means that concrete compressive strength is quite predictable as early as when it is mixed. Most of the error may be attributable to inconsistencies in the mixing process - concrete strength is not solely dependent on its ingredients, since it can be affected by poor mixing, the ambient temperature, and other factors. Nevertheless, a 94% accuracy is quite high and we can confidently say that it is possible to reliably predict the strength of a concrete mix. This can be very useful, especially because the prevailing method for computing concrete strength (not testing but computing) is very tedious and prone to inaccuracy.\n",
    "\n",
    "However, I would not advocate this method as a substitute for proper materials testing such as actual measuring of concrete strength by crushing. This is because many factors affect the strength of concrete, particularly the mixing procedure. It is possible to formulate a concrete mix that has an expected strength of 70 MPa, and only obtain 50 MPa in actuality."
   ]
  },
  {
   "cell_type": "markdown",
   "metadata": {},
   "source": [
    "## 9. Acknowledgments"
   ]
  },
  {
   "cell_type": "markdown",
   "metadata": {},
   "source": [
    "* Jude Teves, for his work on the automated system JUDAS.\n",
    "* Radney Racela for his work on improving JUDAS especially with the aesthetic redesign using `tqdm`.\n",
    "* Ray Franco Rivera, for his idea on feature engineering. I did not his method for my final accuracy of 93.66%, but still did so to investigate its effect on the accuracy and sure enough, it bumped the accuracy up to 94.20%.\n",
    "* Prof. Christopher Monterola for the lecture notebooks."
   ]
  },
  {
   "cell_type": "markdown",
   "metadata": {},
   "source": [
    "## 10. References"
   ]
  },
  {
   "cell_type": "markdown",
   "metadata": {},
   "source": [
    "* Design of Reinforced Concrete, Tenth Edition. 2016. Jack C. McCormac, Russell H. Brown. John Wiley & Sons.<br />\n",
    "* https://www.cement.org/cement-concrete-applications/concrete-materials/chemical-admixtures"
   ]
  },
  {
   "cell_type": "markdown",
   "metadata": {},
   "source": [
    "### 10.1 Images"
   ]
  },
  {
   "cell_type": "markdown",
   "metadata": {},
   "source": [
    "https://www.giatecscientific.com/education/concrete-mix-design-just-got-easier/"
   ]
  }
 ],
 "metadata": {
  "kernelspec": {
   "display_name": "Python [conda env:standard]",
   "language": "python",
   "name": "conda-env-standard-py"
  },
  "language_info": {
   "codemirror_mode": {
    "name": "ipython",
    "version": 3
   },
   "file_extension": ".py",
   "mimetype": "text/x-python",
   "name": "python",
   "nbconvert_exporter": "python",
   "pygments_lexer": "ipython3",
   "version": "3.9.7"
  },
  "notify_time": "5"
 },
 "nbformat": 4,
 "nbformat_minor": 2
}
